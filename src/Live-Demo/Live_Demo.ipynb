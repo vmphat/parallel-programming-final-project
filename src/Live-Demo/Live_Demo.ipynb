{
  "cells": [
    {
      "cell_type": "markdown",
      "metadata": {
        "id": "oOqgxuLSEU0a"
      },
      "source": [
        "## Trường Đại học Khoa học Tự nhiên - Đại học Quốc gia TP.HCM\n",
        "\n",
        "# **Khoa Công nghệ thông tin**\n",
        "\n",
        "## Lớp: **Lập trình song song - 21KHMT**\n",
        "\n",
        "# Đồ án cuối kỳ: **Implement and optimize the traditional Artificial Neural Network (ANN)**\n",
        "\n",
        "---\n",
        "\n",
        "**Sinh viên thực hiện:** Nhóm 05 - Thần y xứ Quảng\n",
        "\n",
        "| STT | MSSV     | Họ và tên         |\n",
        "| :-: | -------- | ----------------- |\n",
        "|  1  | 21127084 | Lê Xuân Kiên      |\n",
        "|  2  | 21127108 | Đặng Hà Nhật Minh |\n",
        "|  3  | 21127739 | Vũ Minh Phát      |\n",
        "\n",
        "**Giảng viên hướng dẫn:**\n",
        "\n",
        "- Nguyễn Trần Duy Minh\n",
        "- Phạm Trọng Nghĩa\n",
        "- Nguyễn Thanh Tình\n",
        "\n",
        "---\n"
      ]
    },
    {
      "cell_type": "markdown",
      "metadata": {
        "id": "0TCgX2C372fS"
      },
      "source": [
        "# 0. Cài đặt môi trường"
      ]
    },
    {
      "cell_type": "markdown",
      "metadata": {
        "id": "1slC5v6J72fS"
      },
      "source": [
        "Cài đặt Nsight System trên Google Colab:"
      ]
    },
    {
      "cell_type": "code",
      "execution_count": 2,
      "metadata": {
        "colab": {
          "base_uri": "https://localhost:8080/"
        },
        "collapsed": true,
        "id": "6Wq8megf72fT",
        "outputId": "d32c8301-1246-4641-8244-32e1439102d3"
      },
      "outputs": [
        {
          "name": "stdout",
          "output_type": "stream",
          "text": [
            "--2024-12-26 07:48:28--  https://developer.download.nvidia.com/compute/cuda/repos/ubuntu2204/x86_64/nsight-systems-2023.2.3_2023.2.3.1001-1_amd64.deb\n",
            "Resolving developer.download.nvidia.com (developer.download.nvidia.com)... 152.199.39.144\n",
            "Connecting to developer.download.nvidia.com (developer.download.nvidia.com)|152.199.39.144|:443... connected.\n",
            "HTTP request sent, awaiting response... 200 OK\n",
            "Length: 317705436 (303M) [application/x-deb]\n",
            "Saving to: ‘nsight-systems-2023.2.3_2023.2.3.1001-1_amd64.deb.1’\n",
            "\n",
            "nsight-systems-2023 100%[===================>] 302.99M   280MB/s    in 1.1s    \n",
            "\n",
            "2024-12-26 07:48:29 (280 MB/s) - ‘nsight-systems-2023.2.3_2023.2.3.1001-1_amd64.deb.1’ saved [317705436/317705436]\n",
            "\n",
            "Hit:1 https://cloud.r-project.org/bin/linux/ubuntu jammy-cran40/ InRelease\n",
            "Hit:2 https://developer.download.nvidia.com/compute/cuda/repos/ubuntu2204/x86_64  InRelease\n",
            "Hit:3 http://security.ubuntu.com/ubuntu jammy-security InRelease\n",
            "Hit:4 http://archive.ubuntu.com/ubuntu jammy InRelease\n",
            "Hit:5 https://ppa.launchpadcontent.net/deadsnakes/ppa/ubuntu jammy InRelease\n",
            "Hit:6 http://archive.ubuntu.com/ubuntu jammy-updates InRelease\n",
            "Hit:7 https://ppa.launchpadcontent.net/graphics-drivers/ppa/ubuntu jammy InRelease\n",
            "Hit:8 https://ppa.launchpadcontent.net/ubuntugis/ppa/ubuntu jammy InRelease\n",
            "Hit:9 http://archive.ubuntu.com/ubuntu jammy-backports InRelease\n",
            "Hit:10 https://r2u.stat.illinois.edu/ubuntu jammy InRelease\n",
            "Reading package lists... Done\n",
            "Building dependency tree... Done\n",
            "Reading state information... Done\n",
            "51 packages can be upgraded. Run 'apt list --upgradable' to see them.\n",
            "\u001b[1;33mW: \u001b[0mSkipping acquire of configured file 'main/source/Sources' as repository 'https://r2u.stat.illinois.edu/ubuntu jammy InRelease' does not seem to provide it (sources.list entry misspelt?)\u001b[0m\n",
            "Reading package lists... Done\n",
            "Building dependency tree... Done\n",
            "Reading state information... Done\n",
            "Note, selecting 'nsight-systems-2023.2.3' instead of './nsight-systems-2023.2.3_2023.2.3.1001-1_amd64.deb'\n",
            "nsight-systems-2023.2.3 is already the newest version (2023.2.3.1001-32894139v0).\n",
            "0 upgraded, 0 newly installed, 0 to remove and 50 not upgraded.\n",
            "Reading package lists... Done\n",
            "Building dependency tree... Done\n",
            "Reading state information... Done\n",
            "0 upgraded, 0 newly installed, 0 to remove and 51 not upgraded.\n"
          ]
        }
      ],
      "source": [
        "# Here is the command to install Nsight system on Colab. You just need to run the cell.\n",
        "!wget https://developer.download.nvidia.com/compute/cuda/repos/ubuntu2204/x86_64/nsight-systems-2023.2.3_2023.2.3.1001-1_amd64.deb\n",
        "!apt update\n",
        "!apt install ./nsight-systems-2023.2.3_2023.2.3.1001-1_amd64.deb\n",
        "!apt --fix-broken install"
      ]
    },
    {
      "cell_type": "markdown",
      "metadata": {
        "id": "k4Qu5MBc72fT"
      },
      "source": [
        "#  \n",
        "---"
      ]
    },
    {
      "cell_type": "markdown",
      "metadata": {
        "id": "3YvlZYi7EU0b"
      },
      "source": [
        "# 1. Host Model V1"
      ]
    },
    {
      "cell_type": "code",
      "execution_count": 3,
      "metadata": {
        "colab": {
          "base_uri": "https://localhost:8080/"
        },
        "id": "-cV7YYVGEU0c",
        "outputId": "aaa8b33c-f2ad-447e-f9f9-abecce88012d"
      },
      "outputs": [
        {
          "name": "stdout",
          "output_type": "stream",
          "text": [
            "CPU times: user 31.9 ms, sys: 6.11 ms, total: 38 ms\n",
            "Wall time: 4.62 s\n"
          ]
        }
      ],
      "source": [
        "%%time\n",
        "!nvcc -O3 -use_fast_math host_v1.cu -diag-suppress 177 -o host_v1"
      ]
    },
    {
      "cell_type": "code",
      "execution_count": 4,
      "metadata": {
        "colab": {
          "base_uri": "https://localhost:8080/"
        },
        "id": "towPpIz7EU0c",
        "outputId": "364ad2c9-5a77-466a-e392-8d964499cd9a"
      },
      "outputs": [
        {
          "name": "stdout",
          "output_type": "stream",
          "text": [
            "Loading Fashion-MNIST dataset...\n",
            "Training the Neural Network using mini-batch gradient descent...\n",
            "==================+=================+========================\n",
            "[ NUM_EPOCHS =  5 | BATCH_SIZE = 64 | LEARNING_RATE = 0.100 ]\n",
            "------------------+-----------------+------------------------\n",
            "[>] Epoch 1/5, Train loss: 0.4319695234, Train accuracy: 0.841767\n",
            "[>] Epoch 2/5, Train loss: 0.3727906644, Train accuracy: 0.863367\n",
            "[>] Epoch 3/5, Train loss: 0.3395258188, Train accuracy: 0.875933\n",
            "[>] Epoch 4/5, Train loss: 0.3253435791, Train accuracy: 0.877867\n",
            "[>] Epoch 5/5, Train loss: 0.3152741492, Train accuracy: 0.883317\n",
            "\n",
            "Evaluating the model on the full test set...\n",
            "[>] Test loss: 0.3837175369\n",
            "[>] Test accuracy: 0.862400\n",
            "\n",
            "[========== MODEL RUN TIME REPORT ==========]\n",
            "(*) Average time for forward and backward pass of each layer in 1 epoch\n",
            "+----------+--------------+---------------+\n",
            "| Layer    | Forward (ms) | Backward (ms) |\n",
            "|==========+==============+===============|\n",
            "| Hidden 1 |     7906.064 |      7424.398 |\n",
            "| Hidden 2 |     1174.939 |      2215.414 |\n",
            "| Output   |      120.284 |       103.154 |\n",
            "*----------*--------------*---------------*\n",
            "\n",
            "(*) Average time to update weights in 1 epoch: 43.851 ms\n",
            "(*) Average time for training the model in 1 epoch: 28290.078 ms\n",
            "(*) Average time for forward pass entire training set: 9200.083 ms\n",
            "(*) Average time for forward pass entire test set: 1497.952 ms\n",
            "(*) Total time for softmax activation function: 77.387 ms\n",
            "[============================================]\n",
            "\n",
            "CPU times: user 769 ms, sys: 89.5 ms, total: 859 ms\n",
            "Wall time: 2min 24s\n"
          ]
        }
      ],
      "source": [
        "%%time\n",
        "!./host_v1 # ~ 3min"
      ]
    },
    {
      "cell_type": "markdown",
      "metadata": {
        "id": "gPs9f-hL72fU"
      },
      "source": [
        "#  \n",
        "---"
      ]
    },
    {
      "cell_type": "markdown",
      "metadata": {
        "id": "enYHVOXrEU0d"
      },
      "source": [
        "# 2. Host Model V2"
      ]
    },
    {
      "cell_type": "code",
      "execution_count": 5,
      "metadata": {
        "colab": {
          "base_uri": "https://localhost:8080/"
        },
        "id": "RwpU9rqZEU0d",
        "outputId": "7d93b257-043d-4ca2-b885-30548de2710e"
      },
      "outputs": [
        {
          "name": "stdout",
          "output_type": "stream",
          "text": [
            "CPU times: user 23.8 ms, sys: 4.86 ms, total: 28.7 ms\n",
            "Wall time: 3.52 s\n"
          ]
        }
      ],
      "source": [
        "%%time\n",
        "!nvcc -O3 -use_fast_math host_v2.cu -diag-suppress 177 -o host_v2"
      ]
    },
    {
      "cell_type": "code",
      "execution_count": 6,
      "metadata": {
        "colab": {
          "base_uri": "https://localhost:8080/"
        },
        "id": "vfzUJ0TbEU0d",
        "outputId": "1fc3341a-e683-4f4a-9a79-88770b1c0576"
      },
      "outputs": [
        {
          "name": "stdout",
          "output_type": "stream",
          "text": [
            "Loading Fashion-MNIST dataset...\n",
            "Training the Neural Network using mini-batch gradient descent...\n",
            "==================+=================+========================\n",
            "[ NUM_EPOCHS =  5 | BATCH_SIZE = 64 | LEARNING_RATE = 0.100 ]\n",
            "------------------+-----------------+------------------------\n",
            "[>] Epoch   1/5, Train loss: 0.4434850812, Train accuracy: 0.834967\n",
            "[>] Epoch   2/5, Train loss: 0.3818791807, Train accuracy: 0.860283\n",
            "[>] Epoch   3/5, Train loss: 0.3441822827, Train accuracy: 0.874333\n",
            "[>] Epoch   4/5, Train loss: 0.3216446042, Train accuracy: 0.880567\n",
            "[>] Epoch   5/5, Train loss: 0.3372273743, Train accuracy: 0.872683\n",
            "\n",
            "Evaluating the model on the full test set...\n",
            "[>] Test loss: 0.4033925533\n",
            "[>] Test accuracy: 0.852400\n",
            "\n",
            "[========== MODEL RUN TIME REPORT ==========]\n",
            "(*) Average time for forward and backward pass of each layer in 1 epoch\n",
            "+----------+--------------+---------------+\n",
            "| Layer    | Forward (ms) | Backward (ms) |\n",
            "|==========+==============+===============|\n",
            "| Hidden 1 |     8345.444 |      6066.065 |\n",
            "| Hidden 2 |     1362.060 |      2217.888 |\n",
            "| Output   |      119.608 |       101.108 |\n",
            "*----------*--------------*---------------*\n",
            "\n",
            "(*) Average time to update weights in 1 epoch: 44.504 ms\n",
            "(*) Average time for training the model in 1 epoch: 32078.863 ms\n",
            "(*) Average time for forward pass entire training set: 13655.849 ms\n",
            "(*) Average time for forward pass entire test set: 2251.712 ms\n",
            "(*) Total time for softmax activation function: 91.172 ms\n",
            "[============================================]\n",
            "\n",
            "CPU times: user 940 ms, sys: 109 ms, total: 1.05 s\n",
            "Wall time: 2min 44s\n"
          ]
        }
      ],
      "source": [
        "%%time\n",
        "!./host_v2 # ~ 3min"
      ]
    },
    {
      "cell_type": "markdown",
      "metadata": {
        "id": "RHoJ18C372fV"
      },
      "source": [
        "#  \n",
        "---"
      ]
    },
    {
      "cell_type": "markdown",
      "metadata": {
        "id": "A9aEpgLyEU0d"
      },
      "source": [
        "# 3. Parallel Model V1"
      ]
    },
    {
      "cell_type": "code",
      "execution_count": 7,
      "metadata": {
        "colab": {
          "base_uri": "https://localhost:8080/"
        },
        "id": "2riuUwRlEU0d",
        "outputId": "53663f32-735a-49fc-d02e-aadd07a9ff5c"
      },
      "outputs": [
        {
          "name": "stdout",
          "output_type": "stream",
          "text": [
            "CPU times: user 25.7 ms, sys: 3.9 ms, total: 29.6 ms\n",
            "Wall time: 3.62 s\n"
          ]
        }
      ],
      "source": [
        "%%time\n",
        "!nvcc -O3 -use_fast_math parallel_v1_GMEM.cu -diag-suppress 177 -o parallel_v1_GMEM"
      ]
    },
    {
      "cell_type": "code",
      "execution_count": 8,
      "metadata": {
        "colab": {
          "base_uri": "https://localhost:8080/"
        },
        "id": "6S6igK4qEU0d",
        "outputId": "d5293efb-e091-4f25-e200-5d4fe520f320"
      },
      "outputs": [
        {
          "name": "stdout",
          "output_type": "stream",
          "text": [
            "WARNING: parallel_v1_GMEM and any of its children processes will be profiled.\n",
            "\n",
            "**********GPU Info**********\n",
            "Name: Tesla T4\n",
            "Compute capability: 7.5\n",
            "Num SMs: 40\n",
            "Max num threads per SM: 1024\n",
            "Max num warps per SM: 32\n",
            "GMEM: 15835660288 bytes\n",
            "CMEM: 65536 bytes\n",
            "L2 cache: 4194304 bytes\n",
            "SMEM / one SM: 65536 bytes\n",
            "****************************\n",
            "\n",
            "Loading Fashion-MNIST dataset...\n",
            "Training the Neural Network using mini-batch gradient descent...\n",
            "==================+=================+========================\n",
            "[ NUM_EPOCHS = 10 | BATCH_SIZE = 64 | LEARNING_RATE = 0.100 ]\n",
            "------------------+-----------------+------------------------\n",
            "[>] Epoch   1/10, Train loss: 0.4451098740, Train accuracy: 0.834117\n",
            "[>] Epoch   2/10, Train loss: 0.3814660609, Train accuracy: 0.859900\n",
            "[>] Epoch   3/10, Train loss: 0.3448198438, Train accuracy: 0.873317\n",
            "[>] Epoch   4/10, Train loss: 0.3181759119, Train accuracy: 0.880867\n",
            "[>] Epoch   5/10, Train loss: 0.3298675716, Train accuracy: 0.874233\n",
            "[>] Epoch   6/10, Train loss: 0.2879684567, Train accuracy: 0.891150\n",
            "[>] Epoch   7/10, Train loss: 0.2725281417, Train accuracy: 0.899867\n",
            "[>] Epoch   8/10, Train loss: 0.2809074223, Train accuracy: 0.893583\n",
            "[>] Epoch   9/10, Train loss: 0.2710864842, Train accuracy: 0.897333\n",
            "[>] Epoch  10/10, Train loss: 0.2575249076, Train accuracy: 0.904600\n",
            "\n",
            "Evaluating the model on the full test set...\n",
            "[>] Test loss: 0.3472722769\n",
            "[>] Test accuracy: 0.873300\n",
            "\n",
            "[========== Training Time Analysis ==========]\n",
            "(*) Average time for forward and backward pass of each layer in 1 epoch\n",
            "+----------+--------------+---------------+\n",
            "| Layer    | Forward (ms) | Backward (ms) |\n",
            "|==========+==============+===============|\n",
            "| Hidden 1 |      678.916 |       960.620 |\n",
            "| Hidden 2 |      466.431 |      1164.945 |\n",
            "| Output   |      416.259 |      1030.240 |\n",
            "*----------*--------------*---------------*\n",
            "\n",
            "(*) Average time to update weights in 1 epoch: 465.270 ms\n",
            "[============================================]\n",
            "\n",
            "Generating '/tmp/nsys-report-edf0.qdstrm'\n",
            "[1/7] [========================100%] report1.nsys-rep\n",
            "[2/7] [========================100%] report1.sqlite\n",
            "[3/7] Executing 'nvtx_sum' stats report\n",
            "SKIPPED: /content/report1.sqlite does not contain NV Tools Extension (NVTX) data.\n",
            "[4/7] Executing 'cuda_api_sum' stats report\n",
            "\n",
            " Time (%)  Total Time (ns)  Num Calls    Avg (ns)      Med (ns)    Min (ns)   Max (ns)    StdDev (ns)                 Name               \n",
            " --------  ---------------  ---------  ------------  ------------  --------  -----------  ------------  ---------------------------------\n",
            "     31.4   17,612,259,189    487,444      36,131.9       3,995.0     1,503   10,017,495      77,376.9  cudaMalloc                       \n",
            "     31.3   17,532,424,619    543,706      32,246.1      19,529.0     4,771  136,134,548     288,455.3  cudaMemcpy                       \n",
            "     26.3   14,748,133,569    487,444      30,256.1       4,506.0     1,585   13,950,964      73,864.0  cudaFree                         \n",
            "      4.6    2,604,116,163    187,501      13,888.5       6,198.0     2,674   28,521,256     182,508.1  cudaDeviceSynchronize            \n",
            "      4.0    2,239,953,435    206,241      10,860.9       8,734.0     3,299  166,914,255     368,867.3  cudaLaunchKernel                 \n",
            "      1.4      778,455,972    131,180       5,934.3       5,637.0     1,468    7,028,839      27,373.7  cudaEventSynchronize             \n",
            "      0.8      456,047,402    131,180       3,476.5       2,995.0     1,350   15,410,157      48,319.6  cudaEventRecord                  \n",
            "      0.2       94,504,354          2  47,252,177.0  47,252,177.0     1,626   94,502,728  66,822,370.1  cudaEventCreate                  \n",
            "      0.0          161,272          1     161,272.0     161,272.0   161,272      161,272           0.0  cudaGetDeviceProperties_v2_v12000\n",
            "      0.0           11,205          2       5,602.5       5,602.5       816       10,389       6,769.1  cudaEventDestroy                 \n",
            "      0.0            1,503          1       1,503.0       1,503.0     1,503        1,503           0.0  cuModuleGetLoadingMode           \n",
            "\n",
            "[5/7] Executing 'cuda_gpu_kern_sum' stats report\n",
            "\n",
            " Time (%)  Total Time (ns)  Instances  Avg (ns)   Med (ns)   Min (ns)   Max (ns)   StdDev (ns)                               Name                             \n",
            " --------  ---------------  ---------  ---------  ---------  --------  ----------  -----------  --------------------------------------------------------------\n",
            "     79.5    1,228,443,340     74,993   16,380.8    7,615.0     2,048  28,472,897    280,841.8  matrixMultiplyKernel(float *, float *, float *, int, int, int)\n",
            "      7.1      109,706,863     46,852    2,341.6    2,016.0     1,439   3,439,552     16,056.7  transposeMatrixKernel(float *, int, int, float *)             \n",
            "      4.6       71,725,499     28,110    2,551.6    1,952.0     1,248       7,200      1,162.5  updateWeightsKernel(float *, float *, int, int, float, int)   \n",
            "      2.7       41,594,496     18,740    2,219.6    2,176.0     1,600       3,744        280.1  reluBackwardKernel(float *, float *, float *, int, int)       \n",
            "      2.6       40,365,646     18,762    2,151.5    1,856.0     1,375     274,107      8,466.7  applyReluKernel(float *, int, int)                            \n",
            "      2.3       35,508,018      9,381    3,785.1    3,744.0     2,880      14,592        581.0  applySoftmaxKernel(float *, int, int)                         \n",
            "      1.0       16,196,683      9,370    1,728.6    1,728.0     1,343       2,976        228.2  subtractMatricesKernel(float *, float *, float *, int, int)   \n",
            "      0.1        1,590,209         11  144,564.5  157,021.0    24,511     176,669     42,172.9  crossEntropyLossKernel(float *, float *, float *, int, int)   \n",
            "      0.0           58,495         11    5,317.7    5,696.0     2,464       6,207      1,054.6  predictLabelsKernel(float *, int *, int, int)                 \n",
            "      0.0           26,912          9    2,990.2    2,656.0     2,464       4,000        634.8  addBiasUnitKernel(float *, int)                               \n",
            "      0.0           14,560          2    7,280.0    7,280.0     4,256      10,304      4,276.6  oneHotEncodingKernel(int *, float *, int, int)                \n",
            "\n",
            "[6/7] Executing 'cuda_gpu_mem_time_sum' stats report\n",
            "\n",
            " Time (%)  Total Time (ns)   Count   Avg (ns)  Med (ns)  Min (ns)   Max (ns)    StdDev (ns)      Operation     \n",
            " --------  ---------------  -------  --------  --------  --------  -----------  -----------  ------------------\n",
            "     64.9    3,425,317,284  337,465  10,150.1   4,864.0       480   45,169,787    248,752.9  [CUDA memcpy HtoD]\n",
            "     35.1    1,855,639,029  206,241   8,997.4   3,712.0     1,343  135,083,561    321,691.5  [CUDA memcpy DtoH]\n",
            "\n",
            "[7/7] Executing 'cuda_gpu_mem_size_sum' stats report\n",
            "\n",
            " Total (MB)   Count   Avg (MB)  Med (MB)  Min (MB)  Max (MB)  StdDev (MB)      Operation     \n",
            " ----------  -------  --------  --------  --------  --------  -----------  ------------------\n",
            " 28,515.927  337,465     0.085     0.033     0.000   188.400        1.134  [CUDA memcpy HtoD]\n",
            " 16,092.232  206,241     0.078     0.033     0.000   188.160        0.610  [CUDA memcpy DtoH]\n",
            "\n",
            "Generated:\n",
            "    /content/report1.nsys-rep\n",
            "    /content/report1.sqlite\n",
            "CPU times: user 754 ms, sys: 83 ms, total: 837 ms\n",
            "Wall time: 1min 55s\n"
          ]
        }
      ],
      "source": [
        "%%time\n",
        "!nsys nvprof ./parallel_v1_GMEM # ~ 2min"
      ]
    },
    {
      "cell_type": "markdown",
      "metadata": {
        "id": "hoW2fhR_72fV"
      },
      "source": [
        "#  \n",
        "---"
      ]
    },
    {
      "cell_type": "markdown",
      "metadata": {
        "id": "kPWXn0EjEU0d"
      },
      "source": [
        "# 4. Parallel Model V2"
      ]
    },
    {
      "cell_type": "code",
      "execution_count": 9,
      "metadata": {
        "colab": {
          "base_uri": "https://localhost:8080/"
        },
        "id": "V_qBeTM3EU0d",
        "outputId": "4ddcf31e-6ecc-4b1d-ee84-8945bb20b602"
      },
      "outputs": [
        {
          "name": "stdout",
          "output_type": "stream",
          "text": [
            "CPU times: user 30.2 ms, sys: 2.71 ms, total: 32.9 ms\n",
            "Wall time: 3.72 s\n"
          ]
        }
      ],
      "source": [
        "%%time\n",
        "!nvcc -O3 -use_fast_math parallel_v2_optimized.cu -diag-suppress 177 -o parallel_v2_optimized"
      ]
    },
    {
      "cell_type": "code",
      "execution_count": 10,
      "metadata": {
        "colab": {
          "base_uri": "https://localhost:8080/"
        },
        "id": "YkiGTA7uEU0d",
        "outputId": "42d21763-09b4-4c3a-d44f-411f37c4639f"
      },
      "outputs": [
        {
          "name": "stdout",
          "output_type": "stream",
          "text": [
            "WARNING: parallel_v2_optimized and any of its children processes will be profiled.\n",
            "\n",
            "**********GPU Info**********\n",
            "Name: Tesla T4\n",
            "Compute capability: 7.5\n",
            "Num SMs: 40\n",
            "Max num threads per SM: 1024\n",
            "Max num warps per SM: 32\n",
            "GMEM: 15835660288 bytes\n",
            "CMEM: 65536 bytes\n",
            "L2 cache: 4194304 bytes\n",
            "SMEM / one SM: 65536 bytes\n",
            "****************************\n",
            "\n",
            "Loading Fashion-MNIST dataset...\n",
            "Training the Neural Network using mini-batch gradient descent...\n",
            "==================+=================+========================\n",
            "[ NUM_EPOCHS = 10 | BATCH_SIZE = 64 | LEARNING_RATE = 0.100 ]\n",
            "------------------+-----------------+------------------------\n",
            "[>] Epoch   1/10, Train loss: 0.4451112747, Train accuracy: 0.834117\n",
            "[>] Epoch   2/10, Train loss: 0.3814668655, Train accuracy: 0.859900\n",
            "[>] Epoch   3/10, Train loss: 0.3448202610, Train accuracy: 0.873317\n",
            "[>] Epoch   4/10, Train loss: 0.3181747794, Train accuracy: 0.880867\n",
            "[>] Epoch   5/10, Train loss: 0.3298676312, Train accuracy: 0.874233\n",
            "[>] Epoch   6/10, Train loss: 0.2879679501, Train accuracy: 0.891150\n",
            "[>] Epoch   7/10, Train loss: 0.2725301683, Train accuracy: 0.899867\n",
            "[>] Epoch   8/10, Train loss: 0.2809065878, Train accuracy: 0.893583\n",
            "[>] Epoch   9/10, Train loss: 0.2710866928, Train accuracy: 0.897333\n",
            "[>] Epoch  10/10, Train loss: 0.2575249672, Train accuracy: 0.904600\n",
            "\n",
            "Evaluating the model on the full test set...\n",
            "[>] Test loss: 0.3538114727\n",
            "[>] Test accuracy: 0.873300\n",
            "\n",
            "[========== Training Time Analysis ==========]\n",
            "(*) Average time for forward and backward pass of each layer in 1 epoch\n",
            "+----------+--------------+---------------+\n",
            "| Layer    | Forward (ms) | Backward (ms) |\n",
            "|==========+==============+===============|\n",
            "| Hidden 1 |      721.657 |       942.834 |\n",
            "| Hidden 2 |      467.428 |      1144.008 |\n",
            "| Output   |      199.824 |      1014.097 |\n",
            "*----------*--------------*---------------*\n",
            "\n",
            "(*) Average time to update weights in 1 epoch: 663.665 ms\n",
            "(*) Average time to substract matrix in 1 epoch: 205.185 ms\n",
            "(*) Average time to apply softmax in 1 epoch: 191.470 ms\n",
            "(*) Average time to add bias unit in 1 epoch: 0.420 ms\n",
            "(*) Average time to compute cross entropy loss in 1 epoch: 4.218 ms\n",
            "(*) Average time to one hot encoding in 1 epoch: 0.496 ms\n",
            "[============================================]\n",
            "\n",
            "Generating '/tmp/nsys-report-fd63.qdstrm'\n",
            "[1/7] [========================100%] report2.nsys-rep\n",
            "[2/7] [========================100%] report2.sqlite\n",
            "[3/7] Executing 'nvtx_sum' stats report\n",
            "SKIPPED: /content/report2.sqlite does not contain NV Tools Extension (NVTX) data.\n",
            "[4/7] Executing 'cuda_api_sum' stats report\n",
            "\n",
            " Time (%)  Total Time (ns)  Num Calls    Avg (ns)      Med (ns)    Min (ns)   Max (ns)    StdDev (ns)                 Name               \n",
            " --------  ---------------  ---------  ------------  ------------  --------  -----------  ------------  ---------------------------------\n",
            "     31.3   17,414,928,359    487,444      35,727.0       3,777.0     1,508   16,161,536      80,919.4  cudaMalloc                       \n",
            "     30.1   16,729,060,086    487,462      34,318.7      20,598.0     4,665  203,918,612     390,577.4  cudaMemcpy                       \n",
            "     26.6   14,780,332,743    487,444      30,322.1       5,279.0     1,660   14,612,568      74,444.7  cudaFree                         \n",
            "      4.2    2,360,494,962     56,292      41,933.0      20,783.0     3,310    8,136,265      72,139.6  cudaMemcpyAsync                  \n",
            "      3.9    2,172,948,624    206,267      10,534.6       8,594.0     3,594  107,718,092     243,009.4  cudaLaunchKernel                 \n",
            "      1.8    1,010,824,609    168,748       5,990.1       5,736.0     1,596    6,276,705      16,853.2  cudaEventSynchronize             \n",
            "      0.9      508,528,473    168,748       3,013.5       2,722.0     1,259      919,159       3,728.1  cudaEventRecord                  \n",
            "      0.4      232,384,937     37,511       6,195.1       5,403.0     3,159    9,541,078      54,136.9  cudaDeviceSynchronize            \n",
            "      0.3      154,514,567     28,149       5,489.2       4,615.0     3,163       56,268       2,689.5  cudaStreamDestroy                \n",
            "      0.2      121,881,138     28,149       4,329.9       2,820.0     1,485    2,500,424      15,569.7  cudaStreamCreate                 \n",
            "      0.2       97,194,182          2  48,597,091.0  48,597,091.0     3,080   97,191,102  68,722,309.4  cudaEventCreate                  \n",
            "      0.1       69,827,907     28,149       2,480.7       2,033.0     1,407      938,566       6,194.6  cudaStreamSynchronize            \n",
            "      0.0          131,455          1     131,455.0     131,455.0   131,455      131,455           0.0  cudaGetDeviceProperties_v2_v12000\n",
            "      0.0            5,053          2       2,526.5       2,526.5       929        4,124       2,259.2  cudaEventDestroy                 \n",
            "      0.0            1,975          1       1,975.0       1,975.0     1,975        1,975           0.0  cuModuleGetLoadingMode           \n",
            "\n",
            "[5/7] Executing 'cuda_gpu_kern_sum' stats report\n",
            "\n",
            " Time (%)  Total Time (ns)  Instances  Avg (ns)  Med (ns)  Min (ns)   Max (ns)   StdDev (ns)                                  Name                                 \n",
            " --------  ---------------  ---------  --------  --------  --------  ----------  -----------  ---------------------------------------------------------------------\n",
            "     83.0    1,684,875,800     74,993  22,467.1  13,408.0     3,583  20,086,765    192,302.2  matrixMultiplyKernel(float *, float *, float *, int, int, int)       \n",
            "      5.7      114,965,609     46,852   2,453.8   2,207.0     1,664   2,775,021     12,993.7  transposeMatrixKernel(float *, int, int, float *)                    \n",
            "      4.1       83,382,712     28,110   2,966.3   2,272.0     1,759      14,847      1,107.5  updateWeightsKernel(float *, float *, int, float, int)               \n",
            "      2.3       45,921,979     18,740   2,450.5   2,400.0     1,952       4,384        299.9  reluBackwardKernel(const float *, float *, float *, int)             \n",
            "      2.2       45,623,135     18,762   2,431.7   2,112.0     1,536     307,931      8,409.2  applyReluKernel(float *, int)                                        \n",
            "      1.7       35,207,434      9,381   3,753.1   3,712.0     3,008      21,311        638.7  applySoftmaxKernel(float *, int, int)                                \n",
            "      0.9       17,631,127      9,370   1,881.7   1,856.0     1,504       3,328        238.0  subtractMatricesKernel(float *, float *, float *, int)               \n",
            "      0.1        1,755,456         33  53,195.6  56,479.0    10,431      75,327     15,429.9  crossEntropyLossKernel(float *, float *, float *, int, int, int, int)\n",
            "      0.0           70,911         11   6,446.5   6,656.0     3,424       8,768      1,293.8  predictLabelsKernel(float *, int *, int, int)                        \n",
            "      0.0           37,791          6   6,298.5   6,144.0     5,728       6,976        550.5  oneHotEncodingKernel(int *, float *, int, int, int, int)             \n",
            "      0.0           28,543          9   3,171.4   2,752.0     2,624       4,288        690.1  addBiasUnitKernel(float *, int)                                      \n",
            "\n",
            "[6/7] Executing 'cuda_gpu_mem_time_sum' stats report\n",
            "\n",
            " Time (%)  Total Time (ns)   Count   Avg (ns)  Med (ns)  Min (ns)   Max (ns)    StdDev (ns)      Operation     \n",
            " --------  ---------------  -------  --------  --------  --------  -----------  -----------  ------------------\n",
            "     64.2    3,444,110,458  337,513  10,204.4   4,863.0       511   42,312,916    245,087.2  [CUDA memcpy HtoD]\n",
            "     35.8    1,920,118,909  206,241   9,310.1   3,680.0     1,184  199,239,722    456,927.7  [CUDA memcpy DtoH]\n",
            "\n",
            "[7/7] Executing 'cuda_gpu_mem_size_sum' stats report\n",
            "\n",
            " Total (MB)   Count   Avg (MB)  Med (MB)  Min (MB)  Max (MB)  StdDev (MB)      Operation     \n",
            " ----------  -------  --------  --------  --------  --------  -----------  ------------------\n",
            " 28,614.087  337,513     0.085     0.033     0.000   188.400        1.135  [CUDA memcpy HtoD]\n",
            " 16,092.232  206,241     0.078     0.033     0.000   188.160        0.610  [CUDA memcpy DtoH]\n",
            "\n",
            "Generated:\n",
            "    /content/report2.nsys-rep\n",
            "    /content/report2.sqlite\n",
            "CPU times: user 759 ms, sys: 90.5 ms, total: 849 ms\n",
            "Wall time: 1min 59s\n"
          ]
        }
      ],
      "source": [
        "%%time\n",
        "!nsys nvprof ./parallel_v2_optimized # ~ 2min"
      ]
    },
    {
      "cell_type": "markdown",
      "metadata": {
        "id": "URuFyyBL72fW"
      },
      "source": [
        "#  \n",
        "---"
      ]
    },
    {
      "cell_type": "markdown",
      "metadata": {
        "id": "xP_Uz3CTEU0e"
      },
      "source": [
        "# 5. Parallel Model V3"
      ]
    },
    {
      "cell_type": "code",
      "execution_count": 11,
      "metadata": {
        "colab": {
          "base_uri": "https://localhost:8080/"
        },
        "id": "RfbdekquEU0e",
        "outputId": "bb94da38-d9ba-4ed5-c26e-ea2fa3db2026"
      },
      "outputs": [
        {
          "name": "stdout",
          "output_type": "stream",
          "text": [
            "CPU times: user 31.3 ms, sys: 0 ns, total: 31.3 ms\n",
            "Wall time: 3.72 s\n"
          ]
        }
      ],
      "source": [
        "%%time\n",
        "!nvcc -O3 -use_fast_math parallel_v3_optimized.cu -diag-suppress 177 -o parallel_v3_optimized"
      ]
    },
    {
      "cell_type": "code",
      "execution_count": 12,
      "metadata": {
        "colab": {
          "base_uri": "https://localhost:8080/"
        },
        "id": "wnBWw4mSEU0e",
        "outputId": "468081fe-fc78-4786-a02c-55883cf3cefa"
      },
      "outputs": [
        {
          "name": "stdout",
          "output_type": "stream",
          "text": [
            "WARNING: parallel_v3_optimized and any of its children processes will be profiled.\n",
            "\n",
            "**********GPU Info**********\n",
            "Name: Tesla T4\n",
            "Compute capability: 7.5\n",
            "Num SMs: 40\n",
            "Max num threads per SM: 1024\n",
            "Max num warps per SM: 32\n",
            "GMEM: 15835660288 bytes\n",
            "CMEM: 65536 bytes\n",
            "L2 cache: 4194304 bytes\n",
            "SMEM / one SM: 65536 bytes\n",
            "****************************\n",
            "\n",
            "Loading Fashion-MNIST dataset...\n",
            "[>] Dataset loaded in 1016.737 ms\n",
            "[>] Data prepared in 1.766 ms\n",
            "Training the Neural Network using mini-batch gradient descent...\n",
            "==================+=================+========================\n",
            "[ NUM_EPOCHS = 10 | BATCH_SIZE = 64 | LEARNING_RATE = 0.100 ]\n",
            "------------------+-----------------+------------------------\n",
            "[>] Epoch   1/10, Train loss: 0.4174713194, Train accuracy: 0.845867\n",
            "[>] Epoch   2/10, Train loss: 0.3641712368, Train accuracy: 0.865933\n",
            "[>] Epoch   3/10, Train loss: 0.3314569592, Train accuracy: 0.877183\n",
            "[>] Epoch   4/10, Train loss: 0.3096896410, Train accuracy: 0.883950\n",
            "[>] Epoch   5/10, Train loss: 0.3213946819, Train accuracy: 0.880967\n",
            "[>] Epoch   6/10, Train loss: 0.2815082073, Train accuracy: 0.894283\n",
            "[>] Epoch   7/10, Train loss: 0.2734162211, Train accuracy: 0.898133\n",
            "[>] Epoch   8/10, Train loss: 0.2918438613, Train accuracy: 0.891150\n",
            "[>] Epoch   9/10, Train loss: 0.2724038363, Train accuracy: 0.896917\n",
            "[>] Epoch  10/10, Train loss: 0.2538805902, Train accuracy: 0.904850\n",
            "\n",
            "Evaluating the model on the full test set...\n",
            "[>] Test loss: 0.3479276299\n",
            "[>] Test accuracy: 0.876200\n",
            "\n",
            "[========== MODEL RUN TIME REPORT ==========]\n",
            "(*) Average time for forward and backward pass of each layer in 1 epoch\n",
            "+----------+--------------+---------------+\n",
            "| Layer    | Forward (ms) | Backward (ms) |\n",
            "|==========+==============+===============|\n",
            "| Hidden 1 |      160.238 |       162.873 |\n",
            "| Hidden 2 |       75.411 |       171.607 |\n",
            "| Output   |       97.882 |       163.094 |\n",
            "*----------*--------------*---------------*\n",
            "\n",
            "(*) Average time to update weights in 1 epoch: 37.652 ms\n",
            "(*) Average time for training the model in 1 epoch: 1705.980 ms\n",
            "(*) Average time for forward pass entire training set: 28.154 ms\n",
            "(*) Average time for forward pass entire test set: 7.253 ms\n",
            "(*) Total time for softmax activation function: 242.273 ms\n",
            "(*) Total time for matrix multiplication: 4524.581 ms\n",
            "(*) Total time for matrix transpose: 1101.243 ms\n",
            "[============================================]\n",
            "\n",
            "Generating '/tmp/nsys-report-4711.qdstrm'\n",
            "[1/7] [========================100%] report3.nsys-rep\n",
            "[2/7] [========================100%] report3.sqlite\n",
            "[3/7] Executing 'nvtx_sum' stats report\n",
            "SKIPPED: /content/report3.sqlite does not contain NV Tools Extension (NVTX) data.\n",
            "[4/7] Executing 'cuda_api_sum' stats report\n",
            "\n",
            " Time (%)  Total Time (ns)  Num Calls   Avg (ns)    Med (ns)   Min (ns)   Max (ns)   StdDev (ns)                 Name               \n",
            " --------  ---------------  ---------  -----------  ---------  --------  ----------  ------------  ---------------------------------\n",
            "     42.0    4,233,198,505    187,501     22,576.9    9,175.0     2,205  32,315,332     188,778.5  cudaDeviceSynchronize            \n",
            "     26.6    2,684,554,870    393,704      6,818.7    6,184.0     1,411  13,448,120      40,825.8  cudaEventSynchronize             \n",
            "     14.0    1,409,832,879    206,241      6,835.9    5,539.0     3,015  99,544,523     223,899.8  cudaLaunchKernel                 \n",
            "      8.7      880,693,725    393,704      2,236.9    1,923.0     1,263  17,242,564      38,754.3  cudaEventRecord                  \n",
            "      7.2      723,577,984      9,376     77,173.4   69,489.5    14,900  15,969,156     273,659.5  cudaMemPrefetchAsync             \n",
            "      0.9       94,640,168         12  7,886,680.7      592.5       489  94,631,604  27,317,566.3  cudaEventCreate                  \n",
            "      0.3       28,824,323         40    720,608.1   14,346.0     8,365   9,960,358   1,960,863.1  cudaFree                         \n",
            "      0.2       20,779,181         40    519,479.5    5,286.0     2,317  20,376,665   3,220,216.8  cudaMallocManaged                \n",
            "      0.0          123,297          1    123,297.0  123,297.0   123,297     123,297           0.0  cudaGetDeviceProperties_v2_v12000\n",
            "      0.0            8,375         12        697.9      525.5       402       2,635         615.3  cudaEventDestroy                 \n",
            "      0.0            1,947          1      1,947.0    1,947.0     1,947       1,947           0.0  cuModuleGetLoadingMode           \n",
            "\n",
            "[5/7] Executing 'cuda_gpu_kern_sum' stats report\n",
            "\n",
            " Time (%)  Total Time (ns)  Instances  Avg (ns)   Med (ns)   Min (ns)   Max (ns)   StdDev (ns)                               Name                             \n",
            " --------  ---------------  ---------  ---------  ---------  --------  ----------  -----------  --------------------------------------------------------------\n",
            "     83.6    2,720,791,076     74,993   36,280.6   18,784.0     4,639  32,302,243    268,898.4  matrixMultiplyKernel(float *, float *, float *, int, int, int)\n",
            "      5.3      171,597,428     46,852    3,662.5    2,816.0     2,047   6,483,277     30,640.6  transposeMatrixKernel(float *, int, int, float *)             \n",
            "      3.6      118,157,779     28,110    4,203.4    4,576.0     1,952      19,552      1,340.8  updateWeightsKernel(float *, float *, int, float, int)        \n",
            "      2.7       86,565,369     18,740    4,619.3    4,640.0     3,679       6,688        682.0  reluBackwardKernel(const float *, float *, float *, int)      \n",
            "      2.0       66,112,760     18,762    3,523.8    3,264.0     2,592     261,116      8,111.4  applyReluKernel(float *, int)                                 \n",
            "      1.3       43,878,627      9,370    4,682.9    4,736.0     4,063      17,120        535.4  subtractMatricesKernel(float *, float *, float *, int)        \n",
            "      1.1       37,217,189      9,381    3,967.3    3,936.0     3,136      42,079      1,163.3  applySoftmaxKernel(float *, int, int)                         \n",
            "      0.2        5,877,719         11  534,338.1  373,721.0   166,429   2,357,398    608,461.3  crossEntropyLossKernel(float *, float *, float *, int, int)   \n",
            "      0.1        2,031,129         11  184,648.1  182,076.0   114,110     229,084     32,721.6  predictLabelsKernel(float *, int *, int, int)                 \n",
            "      0.0          781,233          9   86,803.7   78,847.0    29,279     168,157     45,551.0  addBiasUnitKernel(float *, int)                               \n",
            "      0.0          495,159          2  247,579.5  247,579.5   162,237     332,922    120,692.5  oneHotEncodingKernel(int *, float *, int, int)                \n",
            "\n",
            "[6/7] Executing 'cuda_gpu_mem_time_sum' stats report\n",
            "\n",
            " Time (%)  Total Time (ns)   Count   Avg (ns)  Med (ns)  Min (ns)  Max (ns)  StdDev (ns)              Operation            \n",
            " --------  ---------------  -------  --------  --------  --------  --------  -----------  ---------------------------------\n",
            "     57.0      328,210,312  115,779   2,834.8   1,856.0     1,567   161,181      4,698.1  [CUDA Unified Memory memcpy DtoH]\n",
            "     43.0      247,967,544   28,304   8,760.9   2,816.0     2,527   181,981     12,627.1  [CUDA Unified Memory memcpy HtoD]\n",
            "\n",
            "[7/7] Executing 'cuda_gpu_mem_size_sum' stats report\n",
            "\n",
            " Total (MB)   Count   Avg (MB)  Med (MB)  Min (MB)  Max (MB)  StdDev (MB)              Operation            \n",
            " ----------  -------  --------  --------  --------  --------  -----------  ---------------------------------\n",
            "  2,141.557   28,304     0.076     0.004     0.004     2.097        0.153  [CUDA Unified Memory memcpy HtoD]\n",
            "  2,122.568  115,779     0.018     0.004     0.004     2.097        0.063  [CUDA Unified Memory memcpy DtoH]\n",
            "\n",
            "Generated:\n",
            "    /content/report3.nsys-rep\n",
            "    /content/report3.sqlite\n",
            "CPU times: user 394 ms, sys: 41.8 ms, total: 436 ms\n",
            "Wall time: 52.4 s\n"
          ]
        }
      ],
      "source": [
        "%%time\n",
        "!nsys nvprof ./parallel_v3_optimized # ~ 1min"
      ]
    },
    {
      "cell_type": "markdown",
      "metadata": {
        "id": "deE8_Mr272fW"
      },
      "source": [
        "#  \n",
        "---"
      ]
    },
    {
      "cell_type": "markdown",
      "metadata": {
        "id": "FtInf9r5EU0e"
      },
      "source": [
        "# 6. Parallel Model V4"
      ]
    },
    {
      "cell_type": "code",
      "execution_count": 13,
      "metadata": {
        "colab": {
          "base_uri": "https://localhost:8080/"
        },
        "id": "kGm6af2SEU0e",
        "outputId": "92a755fe-dbe6-4d57-b713-521eeb69e312"
      },
      "outputs": [
        {
          "name": "stdout",
          "output_type": "stream",
          "text": [
            "CPU times: user 28.6 ms, sys: 4.23 ms, total: 32.8 ms\n",
            "Wall time: 4.02 s\n"
          ]
        }
      ],
      "source": [
        "%%time\n",
        "!nvcc -O3 -use_fast_math parallel_v4_optimized.cu -diag-suppress 177 -o parallel_v4_optimized"
      ]
    },
    {
      "cell_type": "code",
      "execution_count": 14,
      "metadata": {
        "colab": {
          "base_uri": "https://localhost:8080/"
        },
        "id": "efzW-msvEU0e",
        "outputId": "0906ebe0-394e-4b15-ab3f-89afc756b94c"
      },
      "outputs": [
        {
          "name": "stdout",
          "output_type": "stream",
          "text": [
            "WARNING: parallel_v4_optimized and any of its children processes will be profiled.\n",
            "\n",
            "**********GPU Info**********\n",
            "Name: Tesla T4\n",
            "Compute capability: 7.5\n",
            "Num SMs: 40\n",
            "Max num threads per SM: 1024\n",
            "Max num warps per SM: 32\n",
            "GMEM: 15835660288 bytes\n",
            "CMEM: 65536 bytes\n",
            "L2 cache: 4194304 bytes\n",
            "SMEM / one SM: 65536 bytes\n",
            "****************************\n",
            "\n",
            "Loading Fashion-MNIST dataset...\n",
            "[>] Dataset loaded in 1030.103 ms\n",
            "[>] Data prepared in 1.866 ms\n",
            "Training the Neural Network using mini-batch gradient descent...\n",
            "==================+=================+========================\n",
            "[ NUM_EPOCHS = 10 | BATCH_SIZE = 64 | LEARNING_RATE = 0.100 ]\n",
            "------------------+-----------------+------------------------\n",
            "[>] Weight initialization time: 2.837184 ms\n",
            "[>] Epoch   1/10, Train loss: 0.4174720645, Train accuracy: 0.845867\n",
            "[>] Epoch   2/10, Train loss: 0.3641698658, Train accuracy: 0.865933\n",
            "[>] Epoch   3/10, Train loss: 0.3314563334, Train accuracy: 0.877183\n",
            "[>] Epoch   4/10, Train loss: 0.3096899986, Train accuracy: 0.883950\n",
            "[>] Epoch   5/10, Train loss: 0.3213953972, Train accuracy: 0.880967\n",
            "[>] Epoch   6/10, Train loss: 0.2815088928, Train accuracy: 0.894283\n",
            "[>] Epoch   7/10, Train loss: 0.2734163105, Train accuracy: 0.898133\n",
            "[>] Epoch   8/10, Train loss: 0.2918432057, Train accuracy: 0.891150\n",
            "[>] Epoch   9/10, Train loss: 0.2724030018, Train accuracy: 0.896917\n",
            "[>] Epoch  10/10, Train loss: 0.2538804114, Train accuracy: 0.904850\n",
            "\n",
            "Evaluating the model on the full test set...\n",
            "[>] Test loss: 0.3479273915\n",
            "[>] Test accuracy: 0.876200\n",
            "\n",
            "[========== MODEL RUN TIME REPORT ==========]\n",
            "(*) Average time for forward and backward pass of each layer in 1 epoch\n",
            "+----------+--------------+---------------+\n",
            "| Layer    | Forward (ms) | Backward (ms) |\n",
            "|==========+==============+===============|\n",
            "| Hidden 1 |       75.207 |        50.277 |\n",
            "| Hidden 2 |       30.301 |        34.929 |\n",
            "| Output   |       23.217 |        31.619 |\n",
            "*----------*--------------*---------------*\n",
            "\n",
            "(*) Average time to update weights in 1 epoch: 29.705 ms\n",
            "(*) Average time for training the model in 1 epoch: 408.490 ms\n",
            "(*) Average time for forward pass when training model in 1 epoch: 128.725 ms\n",
            "(*) Average time for backward pass when training model in 1 epoch: 116.825 ms\n",
            "(*) Average time for evaluating the model on the full training set: 16.847 ms\n",
            "(*) Average time for preparing mini-batch data: 64.877 ms\n",
            "(*) Average time for forward pass entire training set: 15.524 ms\n",
            "(*) Average time for forward pass entire test set: 6.566 ms\n",
            "(*) Total time for softmax activation function: 0.000 ms\n",
            "(*) Total time for matrix multiplication: 0.000 ms\n",
            "(*) Total time for matrix transpose: 8.124 ms\n",
            "[===========================================]\n",
            "\n",
            "Generating '/tmp/nsys-report-1511.qdstrm'\n",
            "[1/7] [========================100%] report4.nsys-rep\n",
            "[2/7] [========================100%] report4.sqlite\n",
            "[3/7] Executing 'nvtx_sum' stats report\n",
            "SKIPPED: /content/report4.sqlite does not contain NV Tools Extension (NVTX) data.\n",
            "[4/7] Executing 'cuda_api_sum' stats report\n",
            "\n",
            " Time (%)  Total Time (ns)  Num Calls   Avg (ns)     Med (ns)    Min (ns)   Max (ns)    StdDev (ns)                 Name               \n",
            " --------  ---------------  ---------  -----------  -----------  --------  -----------  ------------  ---------------------------------\n",
            "     32.3    1,380,707,114     46,918     29,428.1     15,125.0     2,357   15,109,646     210,794.4  cudaDeviceSynchronize            \n",
            "     24.2    1,034,138,908    159,358      6,489.4      4,314.0     2,998  133,568,171     342,136.3  cudaLaunchKernel                 \n",
            "     22.9      976,565,770    150,018      6,509.7      5,303.0     1,477    6,600,329      33,500.0  cudaEventSynchronize             \n",
            "      8.6      367,435,517    178,128      2,062.8      1,683.0     1,269    3,042,200      12,633.5  cudaEventRecord                  \n",
            "      7.8      332,610,818     28,119     11,828.7      2,096.0     1,201    6,209,537      58,414.9  cudaStreamSynchronize            \n",
            "      2.2       95,511,318         19  5,026,911.5        831.0       528   95,487,358  21,905,997.0  cudaEventCreate                  \n",
            "      0.6       27,482,731     28,110        977.7        733.5       594       93,306       1,004.2  cudaStreamWaitEvent              \n",
            "      0.5       20,822,683         40    520,567.1      5,224.0     2,314   20,383,095   3,221,090.2  cudaMallocManaged                \n",
            "      0.4       19,090,490          4  4,772,622.5  1,527,565.5    47,791   15,987,568   7,581,130.4  cudaMemPrefetchAsync             \n",
            "      0.3       14,172,363         40    354,309.1     13,725.5     8,299    4,504,433     913,506.8  cudaFree                         \n",
            "      0.0          180,629          9     20,069.9      2,499.0     1,914      131,978      42,887.6  cudaStreamCreate                 \n",
            "      0.0          159,501          1    159,501.0    159,501.0   159,501      159,501           0.0  cudaGetDeviceProperties_v2_v12000\n",
            "      0.0           38,457          9      4,273.0      3,128.0     2,735       11,474       2,778.5  cudaStreamDestroy                \n",
            "      0.0           26,085         19      1,372.9        736.0       566       12,317       2,661.6  cudaEventDestroy                 \n",
            "      0.0            2,640          1      2,640.0      2,640.0     2,640        2,640           0.0  cuModuleGetLoadingMode           \n",
            "\n",
            "[5/7] Executing 'cuda_gpu_kern_sum' stats report\n",
            "\n",
            " Time (%)  Total Time (ns)  Instances   Avg (ns)     Med (ns)    Min (ns)    Max (ns)   StdDev (ns)                                                Name                                              \n",
            " --------  ---------------  ---------  -----------  -----------  ---------  ----------  -----------  ------------------------------------------------------------------------------------------------\n",
            "     35.7      853,460,602     37,480     22,771.1     21,152.0     20,160     295,131      6,294.3  copyDataToMiniBatchKernel(float *, int *, float *, int, int, int)                               \n",
            "     34.6      827,400,709     18,762     44,099.8     53,663.0     11,679  15,098,965    293,821.6  matrixMultiplyReluKernel(float *, float *, float *, int, int, int)                              \n",
            "     16.0      382,965,245     28,110     13,623.8      6,848.0      6,367     327,194     10,662.2  matrixMultiplyWithTransposeKernel_ABT(float *, float *, float *, int, int, int)                 \n",
            "      6.2      148,380,231     18,740      7,917.8     10,511.5      3,455     138,397      5,230.4  matrixMultiplyWithTransposeReluBackwardKernel(float *, float *, float *, float *, int, int, int)\n",
            "      2.6       62,291,864      9,381      6,640.2      5,695.0      5,631     832,146     15,187.6  matrixMultiplySoftmaxKernel(float *, float *, float *, int, int, int)                           \n",
            "      2.2       52,101,082     28,110      1,853.5      1,344.0      1,215       6,368        824.5  updateWeightsKernel(float *, float *, int, float, int)                                          \n",
            "      1.7       39,587,969      9,370      4,225.0      2,400.0      2,175     784,274     16,941.1  oneHotEncodingMiniBatchKernel(int *, int *, float *, int)                                       \n",
            "      0.5       11,698,526      9,370      1,248.5      1,152.0      1,119       3,136        302.7  subtractMatricesKernel(float *, float *, float *, int)                                          \n",
            "      0.3        8,011,091          2  4,005,545.5  4,005,545.5  1,466,310   6,544,781  3,591,021.3  transposeMatrixKernel(float *, int, int, float *)                                               \n",
            "      0.2        4,357,781         11    396,161.9    299,994.0    140,414   1,489,381    367,155.0  crossEntropyLossKernel(float *, float *, float *, int, int)                                     \n",
            "      0.1        2,129,882         11    193,625.6    184,925.0    101,918     339,898     57,957.0  predictLabelsKernel(float *, int *, int, int)                                                   \n",
            "      0.0          751,604          9     83,511.6     81,727.0     31,232     143,902     39,101.6  addBiasUnitKernel(float *, int)                                                                 \n",
            "      0.0          573,111          2    286,555.5    286,555.5    163,038     410,073    174,680.1  oneHotEncodingKernel(int *, float *, int, int)                                                  \n",
            "\n",
            "[6/7] Executing 'cuda_gpu_mem_time_sum' stats report\n",
            "\n",
            " Time (%)  Total Time (ns)  Count  Avg (ns)  Med (ns)  Min (ns)  Max (ns)  StdDev (ns)              Operation            \n",
            " --------  ---------------  -----  --------  --------  --------  --------  -----------  ---------------------------------\n",
            "     97.0       19,448,744    388  50,125.6   3,232.0     2,367   186,813     75,509.9  [CUDA Unified Memory memcpy HtoD]\n",
            "      3.0          596,848    196   3,045.1   1,536.0     1,343    14,304      3,526.9  [CUDA Unified Memory memcpy DtoH]\n",
            "\n",
            "[7/7] Executing 'cuda_gpu_mem_size_sum' stats report\n",
            "\n",
            " Total (MB)  Count  Avg (MB)  Med (MB)  Min (MB)  Max (MB)  StdDev (MB)              Operation            \n",
            " ----------  -----  --------  --------  --------  --------  -----------  ---------------------------------\n",
            "    225.042    388     0.580     0.008     0.004     2.097        0.923  [CUDA Unified Memory memcpy HtoD]\n",
            "      4.776    196     0.024     0.004     0.004     0.168        0.047  [CUDA Unified Memory memcpy DtoH]\n",
            "\n",
            "Generated:\n",
            "    /content/report4.nsys-rep\n",
            "    /content/report4.sqlite\n",
            "CPU times: user 195 ms, sys: 21.2 ms, total: 216 ms\n",
            "Wall time: 23.5 s\n"
          ]
        }
      ],
      "source": [
        "%%time\n",
        "!nsys nvprof ./parallel_v4_optimized # ~ 30s"
      ]
    }
  ],
  "metadata": {
    "accelerator": "GPU",
    "colab": {
      "gpuType": "T4",
      "provenance": []
    },
    "kernelspec": {
      "display_name": "Python 3",
      "name": "python3"
    },
    "language_info": {
      "name": "python",
      "version": "3.10.12"
    }
  },
  "nbformat": 4,
  "nbformat_minor": 0
}
