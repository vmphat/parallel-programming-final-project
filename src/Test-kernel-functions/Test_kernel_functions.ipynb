{
  "cells": [
    {
      "cell_type": "markdown",
      "metadata": {
        "id": "ZVnxpiOVQwq9"
      },
      "source": [
        "## Trường Đại học Khoa học Tự nhiên - Đại học Quốc gia TP.HCM\n",
        "\n",
        "# **Khoa Công nghệ thông tin**\n",
        "\n",
        "## Lớp: **Lập trình song song - 21KHMT**\n",
        "\n",
        "# Đồ án cuối kỳ: **Implement and optimize the traditional Artificial Neural Network (ANN)**\n",
        "\n",
        "---\n",
        "\n",
        "**Sinh viên thực hiện:** Nhóm 05 - Thần y xứ Quảng\n",
        "\n",
        "| STT | MSSV     | Họ và tên         |\n",
        "| :-: | -------- | ----------------- |\n",
        "|  1  | 21127084 | Lê Xuân Kiên      |\n",
        "|  2  | 21127108 | Đặng Hà Nhật Minh |\n",
        "|  3  | 21127739 | Vũ Minh Phát      |\n",
        "\n",
        "**Giảng viên hướng dẫn:**\n",
        "\n",
        "- Nguyễn Trần Duy Minh\n",
        "- Phạm Trọng Nghĩa\n",
        "- Nguyễn Thanh Tình\n",
        "\n",
        "---\n"
      ]
    },
    {
      "cell_type": "markdown",
      "metadata": {
        "id": "qtdTb5XUO3rI"
      },
      "source": [
        "# Kernel function: Compute matrix multiplication"
      ]
    },
    {
      "cell_type": "code",
      "execution_count": 1,
      "metadata": {
        "id": "nU25vtq0PC7h"
      },
      "outputs": [],
      "source": [
        "!nvcc checkMatMul.cu -o checkMatMul"
      ]
    },
    {
      "cell_type": "code",
      "execution_count": 4,
      "metadata": {
        "colab": {
          "base_uri": "https://localhost:8080/"
        },
        "id": "_NL7to4yQwrA",
        "outputId": "42c03e11-9585-408a-a4f4-b958255897b0"
      },
      "outputs": [
        {
          "name": "stdout",
          "output_type": "stream",
          "text": [
            "**********GPU info**********\n",
            "Name: Tesla T4\n",
            "Compute capability: 7.5\n",
            "Num SMs: 40\n",
            "Max num threads per SM: 1024\n",
            "Max num warps per SM: 32\n",
            "GMEM: 15835660288 bytes\n",
            "****************************\n",
            "\n",
            "*************** Matrix Multiplication ***************\n",
            "Host time : 3617.699707 ms\n",
            "\n",
            "\n",
            "Kernel verion 1, Grid size: 32 * 32, block size: 32 * 32\n",
            "Kernel version 1 time : 52.224960 ms\n",
            "Error: 0.000001\n",
            "\n",
            "Kernel verion 2, Grid size: 32 * 32, block size: 32 * 32\n",
            "Kernel version 2 time : 7.410528 ms\n",
            "Error: 0.000001\n",
            "\n",
            "*****************************************************\n"
          ]
        }
      ],
      "source": [
        "!./checkMatMul"
      ]
    },
    {
      "cell_type": "markdown",
      "metadata": {
        "id": "Qf-8usqQPHPT"
      },
      "source": [
        "# Kernel function: Apply ReLU"
      ]
    },
    {
      "cell_type": "code",
      "execution_count": 5,
      "metadata": {
        "id": "TUhWHr5sPMpV"
      },
      "outputs": [],
      "source": [
        "!nvcc checkReLU.cu -o checkReLU"
      ]
    },
    {
      "cell_type": "code",
      "execution_count": 14,
      "metadata": {
        "colab": {
          "base_uri": "https://localhost:8080/"
        },
        "id": "myyTtWZeQwrA",
        "outputId": "c1074e7c-f77f-445b-aa70-238ec1578991"
      },
      "outputs": [
        {
          "name": "stdout",
          "output_type": "stream",
          "text": [
            "**********GPU info**********\n",
            "Name: Tesla T4\n",
            "Compute capability: 7.5\n",
            "Num SMs: 40\n",
            "Max num threads per SM: 1024\n",
            "Max num warps per SM: 32\n",
            "GMEM: 15835660288 bytes\n",
            "****************************\n",
            "\n",
            "************************ ReLU ************************\n",
            "Host time : 78.327805 ms\n",
            "\n",
            "Kernel version 1, Grid size: 8, block size: 512\n",
            "Kernel version 1 time : 72.996414 ms\n",
            "Error: 0.000000\n",
            "\n",
            "Kernel version 2, Grid size: 32768, block size: 512\n",
            "Kernel version 2 time : 65.126244 ms\n",
            "Error: 0.000000\n",
            "\n",
            "Kernel version 3, Grid size: 32768, block size: 512\n",
            "Kernel version 3 time : 66.577026 ms\n",
            "Error: 0.000000\n",
            "\n",
            "******************************************************\n"
          ]
        }
      ],
      "source": [
        "!./checkReLU"
      ]
    },
    {
      "cell_type": "markdown",
      "metadata": {
        "id": "lkhpw_2CPOnj"
      },
      "source": [
        "# Kernel function: Transpose matrix"
      ]
    },
    {
      "cell_type": "code",
      "execution_count": 11,
      "metadata": {
        "id": "4vG6dvcPPSl2"
      },
      "outputs": [],
      "source": [
        "!nvcc checkTranspose.cu -o checkTranspose"
      ]
    },
    {
      "cell_type": "code",
      "execution_count": 15,
      "metadata": {
        "colab": {
          "base_uri": "https://localhost:8080/"
        },
        "id": "jVuCAsVxQwrA",
        "outputId": "f0f0c0d6-447c-4248-9d47-2236e9e8fc34"
      },
      "outputs": [
        {
          "name": "stdout",
          "output_type": "stream",
          "text": [
            "**********GPU info**********\n",
            "Name: Tesla T4\n",
            "Compute capability: 7.5\n",
            "Num SMs: 40\n",
            "Max num threads per SM: 1024\n",
            "Max num warps per SM: 32\n",
            "GMEM: 15835660288 bytes\n",
            "****************************\n",
            "\n",
            "**************** Transpose Matrix ****************\n",
            "Host time : 361.391541 ms\n",
            "\n",
            "Kernel version 1, Grid size: 128, block size: 32\n",
            "Kernel version 1 time : 66.604797 ms\n",
            "Error: 0.000000\n",
            "\n",
            "Kernel version 2, Grid size: 128, block size: 32\n",
            "Kernel version 2 time : 65.827232 ms\n",
            "Error: 0.000000\n",
            "\n",
            "Kernel version 3, Grid size: 128, block size: 32\n",
            "Kernel version 3 time : 64.191933 ms\n",
            "Error: 0.000000\n",
            "\n",
            "**************************************************\n"
          ]
        }
      ],
      "source": [
        "!./checkTranspose"
      ]
    },
    {
      "cell_type": "markdown",
      "metadata": {
        "id": "0Qw8p3MVPWdK"
      },
      "source": [
        "# Kernel function: Update weight"
      ]
    },
    {
      "cell_type": "code",
      "execution_count": 16,
      "metadata": {
        "id": "K1BsC2EtPZVX"
      },
      "outputs": [],
      "source": [
        "!nvcc checkUpdateWeight.cu -o checkUpdateWeight"
      ]
    },
    {
      "cell_type": "code",
      "execution_count": 18,
      "metadata": {
        "colab": {
          "base_uri": "https://localhost:8080/"
        },
        "id": "hzWZZGUzQwrB",
        "outputId": "0b73db44-402c-4112-a97d-20c97bc0e60d"
      },
      "outputs": [
        {
          "name": "stdout",
          "output_type": "stream",
          "text": [
            "**********GPU info**********\n",
            "Name: Tesla T4\n",
            "Compute capability: 7.5\n",
            "Num SMs: 40\n",
            "Max num threads per SM: 1024\n",
            "Max num warps per SM: 32\n",
            "GMEM: 15835660288 bytes\n",
            "****************************\n",
            "\n",
            "****************** Update Weight ******************\n",
            "Host time : 93.980637 ms\n",
            "\n",
            "\n",
            "Kernel version 1, Grid size: 128, block size: 32\n",
            "Kernel version 1 time : 85.645119 ms\n",
            "Error: 0.000000\n",
            "\n",
            "Kernel version 2, Grid size: 16384, block size: 1024\n",
            "Kernel version 2 time : 82.091202 ms\n",
            "Error: 0.000000\n",
            "\n",
            "***************************************************\n"
          ]
        }
      ],
      "source": [
        "!./checkUpdateWeight"
      ]
    },
    {
      "cell_type": "markdown",
      "metadata": {
        "id": "WuqLzjWnPbco"
      },
      "source": [
        "# Kernel function: Substract matrix"
      ]
    },
    {
      "cell_type": "code",
      "execution_count": 19,
      "metadata": {
        "id": "dJw6LE8VPf77"
      },
      "outputs": [],
      "source": [
        "!nvcc checkSubstractMatrix.cu -o checkSubstractMatrix"
      ]
    },
    {
      "cell_type": "code",
      "execution_count": 23,
      "metadata": {
        "colab": {
          "base_uri": "https://localhost:8080/"
        },
        "id": "alBFCTFAQwrB",
        "outputId": "89c1c5ce-ff7d-451a-d414-20cf0974ecaf"
      },
      "outputs": [
        {
          "name": "stdout",
          "output_type": "stream",
          "text": [
            "**********GPU info**********\n",
            "Name: Tesla T4\n",
            "Compute capability: 7.5\n",
            "Num SMs: 40\n",
            "Max num threads per SM: 1024\n",
            "Max num warps per SM: 32\n",
            "GMEM: 15835660288 bytes\n",
            "****************************\n",
            "\n",
            "***************** Substract Matrix *****************\n",
            "Host time : 84.517441 ms\n",
            "\n",
            "\n",
            "Kernel version 1, Grid size: 128, block size: 32\n",
            "Kernel version 1 time : 79.877151 ms\n",
            "Error: 0.000000\n",
            "\n",
            "Kernel version 2, Grid size: 16384, block size: 1024\n",
            "Kernel version 2 time : 80.684387 ms\n",
            "Error: 0.000000\n",
            "\n",
            "****************************************************\n"
          ]
        }
      ],
      "source": [
        "!./checkSubstractMatrix"
      ]
    },
    {
      "cell_type": "markdown",
      "metadata": {
        "id": "RaIvz1DzNkNx"
      },
      "source": [
        "# Kernel function: Compute Cross-Entropy Loss"
      ]
    },
    {
      "cell_type": "code",
      "execution_count": 24,
      "metadata": {
        "id": "eNp51RdmNZT3"
      },
      "outputs": [],
      "source": [
        "!nvcc checkComputeCrossEntropyLoss.cu -o checkComputeCrossEntropyLoss"
      ]
    },
    {
      "cell_type": "code",
      "execution_count": 28,
      "metadata": {
        "colab": {
          "base_uri": "https://localhost:8080/"
        },
        "id": "XtSZVXnoQwrC",
        "outputId": "00682746-d81e-4f91-acee-d047f8904615"
      },
      "outputs": [
        {
          "name": "stdout",
          "output_type": "stream",
          "text": [
            "**********GPU info**********\n",
            "Name: Tesla T4\n",
            "Compute capability: 7.5\n",
            "Num SMs: 40\n",
            "Max num threads per SM: 1024\n",
            "Max num warps per SM: 32\n",
            "GMEM: 15835660288 bytes\n",
            "****************************\n",
            "\n",
            "************ Compute Cross-Entropy Loss ************\n",
            "Host time : 2.901920 ms\n",
            "\n",
            "\n",
            "Kernel version 1, Grid size: 320, block size: 1024\n",
            "Kernel version 1 time : 1.449280 ms\n",
            "Error: 0.000218\n",
            "\n",
            "****************************************************\n"
          ]
        }
      ],
      "source": [
        "!./checkComputeCrossEntropyLoss"
      ]
    },
    {
      "cell_type": "markdown",
      "metadata": {
        "id": "psG7VW7dNeRO"
      },
      "source": [
        "# Kernel function: One-Hot Encoding"
      ]
    },
    {
      "cell_type": "code",
      "execution_count": 29,
      "metadata": {
        "id": "LoMNKuZBwabN"
      },
      "outputs": [],
      "source": [
        "!nvcc checkOneHotEncoding.cu -o checkOneHotEncoding"
      ]
    },
    {
      "cell_type": "code",
      "execution_count": 35,
      "metadata": {
        "colab": {
          "base_uri": "https://localhost:8080/"
        },
        "id": "Y5wQZjj7QwrC",
        "outputId": "d8fb0f33-3697-4722-ec46-8e6ce9ce30b6"
      },
      "outputs": [
        {
          "name": "stdout",
          "output_type": "stream",
          "text": [
            "**********GPU info**********\n",
            "Name: Tesla T4\n",
            "Compute capability: 7.5\n",
            "Num SMs: 40\n",
            "Max num threads per SM: 1024\n",
            "Max num warps per SM: 32\n",
            "GMEM: 15835660288 bytes\n",
            "****************************\n",
            "\n",
            "***************** One-Hot Encoding *****************\n",
            "Host time : 2.377056 ms\n",
            "\n",
            "\n",
            "Kernel version 1, Grid size: 320, block size: 1024\n",
            "Kernel version 1 time : 1.615264 ms\n",
            "Error: 0.000000\n",
            "\n",
            "Kernel version 2, Grid size: 320, block size: 1024\n",
            "Kernel version 2 time : 1.510048 ms\n",
            "Error: 0.000003\n",
            "\n",
            "****************************************************\n"
          ]
        }
      ],
      "source": [
        "!./checkOneHotEncoding"
      ]
    }
  ],
  "metadata": {
    "accelerator": "GPU",
    "colab": {
      "gpuType": "T4",
      "provenance": []
    },
    "kernelspec": {
      "display_name": "Python 3",
      "name": "python3"
    },
    "language_info": {
      "name": "python"
    }
  },
  "nbformat": 4,
  "nbformat_minor": 0
}
